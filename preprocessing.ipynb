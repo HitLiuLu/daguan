{
 "cells": [
  {
   "cell_type": "code",
   "execution_count": 1,
   "metadata": {},
   "outputs": [],
   "source": [
    "import time\n",
    "import pandas as pd\n",
    "import numpy as np\n",
    "\n",
    "train_agg = pd.read_csv('./input/train_agg.csv', sep='\\t')\n",
    "test_agg = pd.read_csv('./input/test_agg.csv', sep='\\t')\n",
    "agg = pd.concat([train_agg, test_agg], copy=False)\n",
    "\n",
    "train_log = pd.read_csv('./input/train_log.csv', sep='\\t')\n",
    "test_log = pd.read_csv('./input/test_log.csv', sep='\\t')\n",
    "log = pd.concat([train_log, test_log], copy=False)\n",
    "\n",
    "log['EVT_LBL_1'] = log['EVT_LBL'].apply(lambda x: x.split('-')[0])\n",
    "log['EVT_LBL_2'] = log['EVT_LBL'].apply(lambda x: x.split('-')[1])\n",
    "log['EVT_LBL_3'] = log['EVT_LBL'].apply(lambda x: x.split('-')[2])\n",
    "log['OCC_TIM_UNI'] = log['OCC_TIM'].apply(lambda x: time.mktime(time.strptime(x, \"%Y-%m-%d %H:%M:%S\")))\n",
    "log = log.sort_values(by=['USRID', 'OCC_TIM'])\n",
    "\n",
    "train_flg = pd.read_csv('./input/train_flg.csv', sep='\\t')\n",
    "test_flg = pd.read_csv('./input/submit_sample.csv', sep='\\t')\n",
    "test_flg['FLAG'] = -1\n",
    "del test_flg['RST']\n",
    "\n",
    "flg = pd.concat([train_flg, test_flg], copy=False)\n",
    "data = pd.merge(agg, flg, on=['USRID'], how='left', copy=False)"
   ]
  },
  {
   "cell_type": "code",
   "execution_count": 2,
   "metadata": {},
   "outputs": [],
   "source": [
    "def get_year(x):\n",
    "    return int(x.split('-')[0])\n",
    "\n",
    "def get_month(x):\n",
    "    return int(x.split('-')[1])\n",
    "\n",
    "def get_dayofmonth(x):\n",
    "    str = (x.split('-')[2]).split(' ')[0]\n",
    "    return int(str)\n",
    "\n",
    "def get_hour(x):\n",
    "    str = ((x.split('-')[2]).split(' ')[1]).split(':')[0]\n",
    "    return int(str)\n",
    "\n",
    "def get_minute(x):\n",
    "    str = ((x.split('-')[2]).split(' ')[1]).split(':')[1]\n",
    "    return int(str)\n",
    "\n",
    "def get_second(x):\n",
    "    str = ((x.split('-')[2]).split(' ')[1]).split(':')[2]\n",
    "    return int(str)"
   ]
  },
  {
   "cell_type": "code",
   "execution_count": 3,
   "metadata": {},
   "outputs": [],
   "source": [
    "log['YEAR'] = log['OCC_TIM'].apply(lambda x: get_year(x))\n",
    "log['MONTH'] = log['OCC_TIM'].apply(lambda x: get_month(x))\n",
    "log['DOM'] = log['OCC_TIM'].apply(lambda x: get_dayofmonth(x))\n",
    "log['HOUR'] = log['OCC_TIM'].apply(lambda x: get_hour(x))\n",
    "log['MINUTE'] = log['OCC_TIM'].apply(lambda x: get_minute(x))\n",
    "log['SECOND'] = log['OCC_TIM'].apply(lambda x: get_second(x))\n",
    "log['TIM_STP'] = log['OCC_TIM'].apply(lambda x: pd.Timestamp(get_year(x), get_month(x), get_dayofmonth(x), get_hour(x), get_minute(x), get_second(x)))\n",
    "log['DOW'] = log['TIM_STP'].apply(lambda x: (x.dayofweek + 1))"
   ]
  },
  {
   "cell_type": "code",
   "execution_count": 4,
   "metadata": {},
   "outputs": [],
   "source": [
    "log['next_time'] = log.groupby(by=['USRID'])['OCC_TIM_UNI'].diff(-1).apply(np.abs)"
   ]
  },
  {
   "cell_type": "code",
   "execution_count": 5,
   "metadata": {},
   "outputs": [],
   "source": [
    "def encoding_bin(x):\n",
    "    if x > 0:\n",
    "        return 1\n",
    "    else:\n",
    "        return 0\n",
    "\n",
    "data['V2'] = data['V2'].apply(lambda x: encoding_bin(x))\n",
    "data['V4'] = data['V4'].apply(lambda x: encoding_bin(x))\n",
    "data['V5'] = data['V5'].apply(lambda x: encoding_bin(x))"
   ]
  },
  {
   "cell_type": "code",
   "execution_count": 6,
   "metadata": {},
   "outputs": [],
   "source": [
    "data.to_csv('./data/data.csv', index=0)\n",
    "log.to_csv('./data/log.csv', index=0)"
   ]
  }
 ],
 "metadata": {
  "kernelspec": {
   "display_name": "Python 3",
   "language": "python",
   "name": "python3"
  },
  "language_info": {
   "codemirror_mode": {
    "name": "ipython",
    "version": 3
   },
   "file_extension": ".py",
   "mimetype": "text/x-python",
   "name": "python",
   "nbconvert_exporter": "python",
   "pygments_lexer": "ipython3",
   "version": "3.6.4"
  }
 },
 "nbformat": 4,
 "nbformat_minor": 2
}
